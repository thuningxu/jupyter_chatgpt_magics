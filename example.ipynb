{
 "cells": [
  {
   "cell_type": "code",
   "execution_count": 1,
   "id": "9a35df3f",
   "metadata": {},
   "outputs": [],
   "source": [
    "%load_ext jupyter_chatgpt_magics"
   ]
  },
  {
   "cell_type": "code",
   "execution_count": 2,
   "id": "d4538f55",
   "metadata": {},
   "outputs": [
    {
     "data": {
      "text/markdown": [
       "> **User:** How to build a jupyter notebook magics extension?\n",
       "\n",
       " **ChatGPT:** To build a Jupyter Notebook magics extension, you can follow these steps:\n",
       "\n",
       "1. Install the `ipython` package: You can install this package using pip by running the following command in your terminal: `pip install ipython`.\n",
       "\n",
       "2. Create a Python module: Create a Python module with a name that ends in `_magic.py`. This module will contain the code for your magics extension.\n",
       "\n",
       "3. Define your magics: In your Python module, define your magics using the `register_magic_function` method of the `InteractiveShell` class. This method takes a function as its first argument, which will be called when the magic is invoked. You can also specify the name of the magic, any aliases, and any documentation.\n",
       "\n",
       "4. Register your magics: In your Python module, call the `load_ipython_extension` function with the `ipython` object as its argument. This will register your magics with the Jupyter Notebook.\n",
       "\n",
       "5. Install your extension: To install your extension, you can use the `%install_ext` magic command in a Jupyter Notebook cell. This command takes a URL or a local file path to your Python module and installs it as an extension.\n",
       "\n",
       "Here's an example of a simple magics extension that prints \"Hello, world!\" when the `%hello` magic is invoked:\n",
       "\n",
       "```python\n",
       "from IPython.core.magic import register_line_magic\n",
       "\n",
       "@register_line_magic\n",
       "def hello(line):\n",
       "    print(\"Hello, world!\")\n",
       "\n",
       "def load_ipython_extension(ipython):\n",
       "    ipython.register_magic_function(hello, magic_kind='line', magic_name='hello')\n",
       "```\n",
       "\n",
       "To install this extension, you can save it as a file named `hello_magic.py` and run the following command in a Jupyter Notebook cell:\n",
       "\n",
       "```\n",
       "%install_ext hello_magic.py\n",
       "```\n",
       "\n",
       "After the extension is installed, you can use the `%hello` magic in any Jupyter Notebook cell to print \"Hello, world!\"."
      ],
      "text/plain": [
       "<IPython.core.display.Markdown object>"
      ]
     },
     "metadata": {},
     "output_type": "display_data"
    }
   ],
   "source": [
    "%%chatgpt\n",
    "How to build a jupyter notebook magics extension?"
   ]
  },
  {
   "cell_type": "code",
   "execution_count": null,
   "id": "fa03673e",
   "metadata": {},
   "outputs": [],
   "source": []
  }
 ],
 "metadata": {
  "kernelspec": {
   "display_name": "Python 3 (ipykernel)",
   "language": "python",
   "name": "python3"
  },
  "language_info": {
   "codemirror_mode": {
    "name": "ipython",
    "version": 3
   },
   "file_extension": ".py",
   "mimetype": "text/x-python",
   "name": "python",
   "nbconvert_exporter": "python",
   "pygments_lexer": "ipython3",
   "version": "3.9.6"
  }
 },
 "nbformat": 4,
 "nbformat_minor": 5
}
